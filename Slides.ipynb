{
 "cells": [
  {
   "cell_type": "markdown",
   "id": "4c3bbe09",
   "metadata": {},
   "source": [
    "# A Short Introductio To Python Programming\n",
    "\n",
    "by Kristin Kaltenhauser"
   ]
  },
  {
   "cell_type": "markdown",
   "id": "33324352",
   "metadata": {},
   "source": [
    "## Why Python?\n"
   ]
  },
  {
   "cell_type": "markdown",
   "id": "281e9996",
   "metadata": {},
   "source": [
    "<img src=\"img/ppl.jpeg\" width=\"600\" height=\"300\">"
   ]
  },
  {
   "cell_type": "markdown",
   "id": "fa61a919",
   "metadata": {},
   "source": [
    "- There are quite many jobs out there involving development with Python: https://stackoverflow.com/jobs/developer-jobs-using-python"
   ]
  },
  {
   "cell_type": "markdown",
   "id": "26c665f6",
   "metadata": {},
   "source": [
    "## Instructions:"
   ]
  },
  {
   "cell_type": "markdown",
   "id": "adef3798",
   "metadata": {},
   "source": [
    "```python\n",
    "passwordFile = open('SecretPasswordFile.txt')\n",
    "secretPassword = passwordFile.read()\n",
    "print('Enter your password.')\n",
    "   typedPassword = input()\n",
    "if typedPassword == secretPassword:\n",
    "   print('Access granted')\n",
    "   if typedPassword == '12345':\n",
    "       print('That password is one that an idiot puts on their luggage.')\n",
    "  else:\n",
    "   print('Access denied')\n",
    "```"
   ]
  }
 ],
 "metadata": {
  "kernelspec": {
   "display_name": "myenv",
   "language": "python",
   "name": "myenv"
  },
  "language_info": {
   "codemirror_mode": {
    "name": "ipython",
    "version": 3
   },
   "file_extension": ".py",
   "mimetype": "text/x-python",
   "name": "python",
   "nbconvert_exporter": "python",
   "pygments_lexer": "ipython3",
   "version": "3.8.10"
  }
 },
 "nbformat": 4,
 "nbformat_minor": 5
}
