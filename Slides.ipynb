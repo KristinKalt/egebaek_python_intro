{
 "cells": [
  {
   "cell_type": "markdown",
   "id": "151552f1",
   "metadata": {},
   "source": [
    "# A Short Introductio To Python Programming\n",
    "\n",
    "by Kristin Kaltenhauser"
   ]
  },
  {
   "cell_type": "markdown",
   "id": "15c2c8d6",
   "metadata": {},
   "source": [
    "## Why Python?\n"
   ]
  },
  {
   "cell_type": "markdown",
   "id": "4dd7bd5e",
   "metadata": {},
   "source": [
    "<img src=\"img/ppl.jpeg\" width=\"600\" height=\"300\">"
   ]
  },
  {
   "cell_type": "markdown",
   "id": "b94d3810",
   "metadata": {},
   "source": [
    "- There are quite many jobs out there involving development with Python: https://stackoverflow.com/jobs/developer-jobs-using-python"
   ]
  },
  {
   "cell_type": "markdown",
   "id": "2435915e",
   "metadata": {},
   "source": [
    "## Instructions:"
   ]
  },
  {
   "cell_type": "markdown",
   "id": "88d5585d",
   "metadata": {},
   "source": [
    "```python\n",
    "passwordFile = open('SecretPasswordFile.txt')\n",
    "secretPassword = passwordFile.read()\n",
    "print('Enter your password.')\n",
    "   typedPassword = input()\n",
    "if typedPassword == secretPassword:\n",
    "   print('Access granted')\n",
    "   if typedPassword == '12345':\n",
    "       print('That password is one that an idiot puts on their luggage.')\n",
    "  else:\n",
    "   print('Access denied')\n",
    "```"
   ]
  },
  {
   "cell_type": "markdown",
   "id": "bd879ae1",
   "metadata": {},
   "source": [
    "## Expressions = values and operators\n",
    "\n",
    "Math operators from highest to lowest precedence:\n",
    " \n",
    "|Operator|Operation|Example|Evaluates to...\n",
    "|--|--|--|---------------------------|\n",
    "| `**` | Exponent | `2 ** 3` | 8 |\n",
    "| `%` | Modulus | `22 % 8` | 6 |\n",
    "| `//` | Integer division | `22 // 8` | 2 |\n",
    "| `/` | Division | `22 / 8` | 2.75 |\n",
    "| `*` | Multiplication | `3 * 5` | 15 |\n",
    "| `-` | Subtraction | `5 - 2` | 3 |\n",
    "| `+` | Addition | `2 + 3` | 5 |\n"
   ]
  },
  {
   "cell_type": "code",
   "execution_count": null,
   "id": "2ea7e9ab",
   "metadata": {},
   "outputs": [],
   "source": []
  },
  {
   "cell_type": "code",
   "execution_count": null,
   "id": "2a42ed22",
   "metadata": {},
   "outputs": [],
   "source": []
  },
  {
   "cell_type": "code",
   "execution_count": null,
   "id": "a9619cac",
   "metadata": {},
   "outputs": [],
   "source": []
  },
  {
   "cell_type": "markdown",
   "id": "9c533dcc",
   "metadata": {},
   "source": [
    "**This is a grammatically correct English sentence.**\n",
    "\n",
    "**This grammatically is sentence not English correct a.**"
   ]
  },
  {
   "cell_type": "markdown",
   "id": "256a850a",
   "metadata": {},
   "source": [
    "## Data Types in Python\n",
    "\n",
    "= category for values, each value belongs to one data type\n",
    "\n",
    "### Integer, Floating-point, and String Data Types\n",
    "\n",
    "Common data types\n",
    "\n",
    "|Data Type|Examples|\n",
    "|--|--|\n",
    "| Integers | -2, -1, 0, 1, 2, 3, 4, 5 |\n",
    "| Floating-point numbers | -1.25, -1.0, --0.5, 0.0, 0.5, 1.0, 1.25 |\n",
    "| Strings | 'a', 'aa', 'aaa', 'Hello!', '11 things' |"
   ]
  },
  {
   "cell_type": "code",
   "execution_count": null,
   "id": "30ed9988",
   "metadata": {},
   "outputs": [],
   "source": []
  },
  {
   "cell_type": "code",
   "execution_count": null,
   "id": "19ccbd07",
   "metadata": {},
   "outputs": [],
   "source": []
  },
  {
   "cell_type": "markdown",
   "id": "846a65af",
   "metadata": {},
   "source": [
    "## Variable \n",
    "\n",
    "= labeled ox, used to store information, to be referenced and manipulated by computer program\n",
    "- store values in variables using an assignment statement\n",
    "- consists of variable name, equal sign and value to be stored\n",
    "- a variable is initialized the first time a value is stored in it\n",
    "- when a new value is assigned, the old one is forgotten\n",
    "\n",
    "<img src=\"img/variable.jpg\" width=\"400\" height=\"200\">"
   ]
  },
  {
   "cell_type": "code",
   "execution_count": null,
   "id": "6a7b4039",
   "metadata": {},
   "outputs": [],
   "source": []
  },
  {
   "cell_type": "markdown",
   "id": "189910bd",
   "metadata": {},
   "source": [
    "### Naming and Using Variables\n",
    "\n",
    "There are rules for naming variables. Breaking some of these rules will cause errors; other guidelines just help you write code that’s easier to read and understand. Be sure to keep the following variable rules in mind:\n",
    "\n",
    "Variable names can:\n",
    "\n",
    "  * contain only letters, numbers, and underscores\n",
    "  * start with a letter or an underscore\n",
    "  * not start with a number\n",
    "  * not contain spaces"
   ]
  },
  {
   "cell_type": "code",
   "execution_count": null,
   "id": "6914b9dd",
   "metadata": {},
   "outputs": [],
   "source": []
  },
  {
   "cell_type": "markdown",
   "id": "b9271999",
   "metadata": {},
   "source": [
    "## Your turn! Type the following lines into one cell and press ctrl + Enter"
   ]
  },
  {
   "cell_type": "code",
   "execution_count": 16,
   "id": "8b3da2a9",
   "metadata": {},
   "outputs": [
    {
     "name": "stdout",
     "output_type": "stream",
     "text": [
      "Hello, world!\n",
      "What is your name?\n",
      "gr\n",
      "It is good to meet you, gr\n",
      "The length of your name is:\n",
      "2\n",
      "What is your age?\n",
      "3\n",
      "You will be 4 in a year.\n"
     ]
    }
   ],
   "source": [
    "# This program says hello and asks for my name.\n",
    "\n",
    "print('Hello, world!')\n",
    "print('What is your name?')    # ask for their name\n",
    "myName = input()\n",
    "print('It is good to meet you, ' + myName)\n",
    "print('The length of your name is:')\n",
    "print(len(myName))\n",
    "print('What is your age?')    # ask for their age\n",
    "myAge = input()\n",
    "print('You will be ' + str(int(myAge) + 1) + ' in a year.')"
   ]
  },
  {
   "cell_type": "markdown",
   "id": "c826a1eb",
   "metadata": {},
   "source": [
    "### The str(), int(), and float() Functions"
   ]
  },
  {
   "cell_type": "code",
   "execution_count": null,
   "id": "87ef2da1",
   "metadata": {},
   "outputs": [],
   "source": []
  },
  {
   "cell_type": "markdown",
   "id": "21520569",
   "metadata": {},
   "source": [
    "### What is a list?\n",
    "\n",
    "A list is a collection of items in a particular order. You can make a list that includes the letters of the alphabet, the digits from 0–9, or the names of all the people in your family. You can put anything you want into a list, and the items in your list do not have to be related in any particular way. \n",
    "\n",
    "Guideline:\n",
    "  * name of your lists in plural, such as `letters`, `digits`, or `names`\n",
    "\n",
    "\n",
    "Square brackets (`[]`) indicate a list, and individual elements in the list are separated by commas."
   ]
  },
  {
   "cell_type": "markdown",
   "id": "724ba7a1",
   "metadata": {},
   "source": [
    "Examples:"
   ]
  },
  {
   "cell_type": "code",
   "execution_count": null,
   "id": "466d7d80",
   "metadata": {},
   "outputs": [],
   "source": []
  },
  {
   "cell_type": "code",
   "execution_count": null,
   "id": "82feaa3c",
   "metadata": {},
   "outputs": [],
   "source": []
  },
  {
   "cell_type": "markdown",
   "id": "303e5094",
   "metadata": {},
   "source": [
    "Accessing elements:"
   ]
  },
  {
   "cell_type": "code",
   "execution_count": null,
   "id": "a1eb0428",
   "metadata": {},
   "outputs": [],
   "source": []
  },
  {
   "cell_type": "code",
   "execution_count": null,
   "id": "b204e779",
   "metadata": {},
   "outputs": [],
   "source": []
  },
  {
   "cell_type": "markdown",
   "id": "1dfe467a",
   "metadata": {},
   "source": [
    "Negative Indexes\n",
    "\n",
    "How to get the last element of a list?"
   ]
  },
  {
   "cell_type": "code",
   "execution_count": null,
   "id": "ac112e42",
   "metadata": {},
   "outputs": [],
   "source": []
  },
  {
   "cell_type": "code",
   "execution_count": null,
   "id": "b38e0e5f",
   "metadata": {},
   "outputs": [],
   "source": []
  },
  {
   "cell_type": "markdown",
   "id": "3929237b",
   "metadata": {},
   "source": [
    "Getting Sublists with Slices\n",
    "\n",
    "  * `animals[2]`is a list with an index (one integer)\n",
    "  * `animals[1:4]` is a list with a slice (two integers)\n",
    "  \n",
    "In a slice, the  rst integer is the index where the slice starts. The second integer is the index where the slice ends. A slice goes up to, but will not include, the value at the second index. A slice evaluates to a new list value."
   ]
  },
  {
   "cell_type": "code",
   "execution_count": null,
   "id": "c3d53eee",
   "metadata": {},
   "outputs": [],
   "source": []
  },
  {
   "cell_type": "code",
   "execution_count": null,
   "id": "25518719",
   "metadata": {},
   "outputs": [],
   "source": []
  },
  {
   "cell_type": "code",
   "execution_count": null,
   "id": "3cad24b1",
   "metadata": {},
   "outputs": [],
   "source": []
  }
 ],
 "metadata": {
  "kernelspec": {
   "display_name": "myenv",
   "language": "python",
   "name": "myenv"
  },
  "language_info": {
   "codemirror_mode": {
    "name": "ipython",
    "version": 3
   },
   "file_extension": ".py",
   "mimetype": "text/x-python",
   "name": "python",
   "nbconvert_exporter": "python",
   "pygments_lexer": "ipython3",
   "version": "3.8.10"
  }
 },
 "nbformat": 4,
 "nbformat_minor": 5
}
