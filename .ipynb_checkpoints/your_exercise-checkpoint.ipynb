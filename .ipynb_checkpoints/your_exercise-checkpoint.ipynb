{
 "cells": [
  {
   "cell_type": "markdown",
   "id": "951a6558",
   "metadata": {},
   "source": [
    "# 1. My first program:"
   ]
  },
  {
   "cell_type": "code",
   "execution_count": null,
   "id": "36b3f28c",
   "metadata": {},
   "outputs": [],
   "source": []
  },
  {
   "cell_type": "markdown",
   "id": "cbed82b5",
   "metadata": {},
   "source": [
    "\n",
    "\n",
    "\n",
    "\n",
    "\n",
    "\n",
    "\n",
    "\n",
    "\n",
    "\n",
    "\n",
    "# 2. A cookie program"
   ]
  },
  {
   "cell_type": "markdown",
   "id": "3489a133",
   "metadata": {},
   "source": [
    "Now that we have learned about getting input (with `input`), printing text (strings), data types (str and int) and operators (+, * and /), we'll put it all together.\n",
    "\n",
    "Here is the requirement for your program: Your program will identify how much the user likes cookie. The user can give a number between 1 and 10 to indicate just how much he/she likes it. If the user types 1, you should print 'I really like cookie dough'. If the user types 3, you should print 'I really really really like cookie dough'. If the user types 10, we have a serious cookie dough lover, so you should print 'really' 10 times.\n",
    "\n",
    "You can assume that the user will never enter a number outside the range of 1-10."
   ]
  },
  {
   "cell_type": "code",
   "execution_count": null,
   "id": "77207ae6",
   "metadata": {},
   "outputs": [],
   "source": []
  },
  {
   "cell_type": "markdown",
   "id": "3b63d014",
   "metadata": {},
   "source": [
    "\n",
    "Hint: Developing applications is hard. The best approach is to break the problem down into steps. What is the first thing you need for your program?\n",
    "\n",
    "Hint: The first thing you need is input. Look above: do you remember how to get some input from the user? Now you can proceed: what type is the input you just received? And what type do you actually need?\n",
    "\n",
    "Hint: Now that you have a number from the user (between 1 and 10) the second step is to use that number. For what do you have to use the number?\n",
    "\n",
    "Hint: The number determines how many times the string 'really' should be printed. Do you remember what operator can print a string multiple times?\n"
   ]
  }
 ],
 "metadata": {
  "kernelspec": {
   "display_name": "myenv",
   "language": "python",
   "name": "myenv"
  },
  "language_info": {
   "codemirror_mode": {
    "name": "ipython",
    "version": 3
   },
   "file_extension": ".py",
   "mimetype": "text/x-python",
   "name": "python",
   "nbconvert_exporter": "python",
   "pygments_lexer": "ipython3",
   "version": "3.8.10"
  }
 },
 "nbformat": 4,
 "nbformat_minor": 5
}
