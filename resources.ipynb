{
 "cells": [
  {
   "cell_type": "markdown",
   "id": "6415ce8c",
   "metadata": {},
   "source": [
    "## Resources"
   ]
  },
  {
   "cell_type": "code",
   "execution_count": null,
   "id": "0c03e5b2",
   "metadata": {},
   "outputs": [],
   "source": []
  },
  {
   "cell_type": "markdown",
   "id": "2283d932",
   "metadata": {},
   "source": [
    "## Free Online Resources"
   ]
  },
  {
   "cell_type": "markdown",
   "id": "35d1e14e",
   "metadata": {},
   "source": [
    "- Python Data Science Handbook: https://github.com/jakevdp/PythonDataScienceHandbook\n",
    "- Free online book: Automate the boring stuff with Python: https://automatetheboringstuff.com/2e/chapter0/\n",
    "- RealPython online tutorials and articles: https://realpython.com/\n",
    "- Codecademy online course: https://www.codecademy.com/learn/learn-python-3\n",
    "- FreeCode Camp (4h Python introduction video): https://www.youtube.com/watch?v=rfscVS0vtbw\n",
    "- Another good online course: https://www.learnpython.org/\n",
    "- Kaggle - online data sets and competition: https://www.kaggle.com/\n",
    "- Codewars, practice your python with small tasks to solve: https://www.codewars.com/\n",
    "- Python beginners podcast: https://www.podbean.com/podcast-detail/weiai-8ecd5/Python-for-Beginners-Podcast"
   ]
  },
  {
   "cell_type": "markdown",
   "id": "3a4e20f4",
   "metadata": {},
   "source": [
    "## Good Advice for learning python..."
   ]
  },
  {
   "cell_type": "markdown",
   "id": "05f25691",
   "metadata": {},
   "source": [
    "- start out with tutorials to learn the basics\n",
    "- but don't get stuck with doing tutorials. Do your own projects:\n",
    "    - data analysis on Kaggle\n",
    "    - make your own website\n",
    "- write code every day, even if it's just a line\n",
    "- errors are ok and normal, they don't break your computer, but they help you learn\n",
    "- listen to podcasts, go to Meetups\n",
    "- you can google EVERYTHING. I google things A LOT\n",
    "- look for likeminded people to do projects together"
   ]
  }
 ],
 "metadata": {
  "kernelspec": {
   "display_name": "myenv",
   "language": "python",
   "name": "myenv"
  },
  "language_info": {
   "codemirror_mode": {
    "name": "ipython",
    "version": 3
   },
   "file_extension": ".py",
   "mimetype": "text/x-python",
   "name": "python",
   "nbconvert_exporter": "python",
   "pygments_lexer": "ipython3",
   "version": "3.8.10"
  }
 },
 "nbformat": 4,
 "nbformat_minor": 5
}
